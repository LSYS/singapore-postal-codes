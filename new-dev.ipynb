{
 "cells": [
  {
   "cell_type": "code",
   "execution_count": 1,
   "id": "4533b9e9",
   "metadata": {},
   "outputs": [],
   "source": [
    "import requests\n",
    "import json\n",
    "\n",
    "new_dev = [\n",
    "    # https://clickproperty.sg/project/5804/403-clementi-avenue-1\n",
    "    120403,\n",
    "    120404,\n",
    "    150094,\n",
    "    160029,\n",
    "    160090,\n",
    "    218778,\n",
    "    219063,\n",
    "    271016,\n",
    "    380020,\n",
    "    380054,\n",
    "    380057,\n",
    "    400836,\n",
    "    521129,\n",
    "    600005,\n",
    "    610008,\n",
    "    640167,\n",
    "    640220,\n",
    "    # known knowns\n",
    "    138600,\n",
    "    120328,\n",
    "]"
   ]
  },
  {
   "cell_type": "code",
   "execution_count": 2,
   "id": "91926149",
   "metadata": {},
   "outputs": [
    {
     "name": "stdout",
     "output_type": "stream",
     "text": [
      "120403: No results found\n",
      "120404: No results found\n",
      "150094: No results found\n",
      "160029: No results found\n",
      "160090: No results found\n",
      "218778: No results found\n",
      "219063: No results found\n",
      "271016: No results found\n",
      "380020: No results found\n",
      "380054: No results found\n",
      "380057: No results found\n",
      "400836: No results found\n",
      "521129: No results found\n",
      "600005: No results found\n",
      "610008: No results found\n",
      "640167: No results found\n",
      "640220: No results found\n",
      "138600:\n",
      "{\n",
      "  \"SEARCHVAL\": \"UNIVERSITY TOWN (UTOWN RESIDENCE NORTH TOWER)\",\n",
      "  \"BLK_NO\": \"36\",\n",
      "  \"ROAD_NAME\": \"COLLEGE AVENUE EAST\",\n",
      "  \"BUILDING\": \"UNIVERSITY TOWN (UTOWN RESIDENCE NORTH TOWER)\",\n",
      "  \"ADDRESS\": \"36 COLLEGE AVENUE EAST UNIVERSITY TOWN (UTOWN RESIDENCE NORTH TOWER) SINGAPORE 138600\",\n",
      "  \"POSTAL\": \"138600\",\n",
      "  \"X\": \"21392.7041339614\",\n",
      "  \"Y\": \"31961.4133592192\",\n",
      "  \"LATITUDE\": \"1.3053214796692\",\n",
      "  \"LONGITUDE\": \"103.773948937801\",\n",
      "  \"LONGTITUDE\": \"103.773948937801\"\n",
      "}\n",
      "120328:\n",
      "{\n",
      "  \"SEARCHVAL\": \"328 CLEMENTI AVENUE 2 SINGAPORE 120328\",\n",
      "  \"BLK_NO\": \"328\",\n",
      "  \"ROAD_NAME\": \"CLEMENTI AVENUE 2\",\n",
      "  \"BUILDING\": \"NIL\",\n",
      "  \"ADDRESS\": \"328 CLEMENTI AVENUE 2 SINGAPORE 120328\",\n",
      "  \"POSTAL\": \"120328\",\n",
      "  \"X\": \"20629.28150729\",\n",
      "  \"Y\": \"32920.1320087388\",\n",
      "  \"LATITUDE\": \"1.31399161476536\",\n",
      "  \"LONGITUDE\": \"103.767089003977\",\n",
      "  \"LONGTITUDE\": \"103.767089003977\"\n",
      "}\n"
     ]
    }
   ],
   "source": [
    "for postal in new_dev:\n",
    "    api_url = f\"https://developers.onemap.sg/commonapi/search?searchVal={postal}&returnGeom=Y&getAddrDetails=Y\"\n",
    "    response = requests.get(api_url)\n",
    "    _rc = response.status_code\n",
    "    if _rc == 200:\n",
    "        payload = response.json()\n",
    "        n_found = payload[\"found\"]\n",
    "        if n_found == 0:\n",
    "            print(f\"{postal}: No results found\")\n",
    "        else:\n",
    "            assert n_found == 1\n",
    "            print(f\"{postal}:\")\n",
    "            print(json.dumps(payload[\"results\"][0], indent=2))\n",
    "\n",
    "    else:\n",
    "        print(_rc)"
   ]
  },
  {
   "cell_type": "code",
   "execution_count": null,
   "id": "30677cd8",
   "metadata": {},
   "outputs": [],
   "source": []
  }
 ],
 "metadata": {
  "kernelspec": {
   "display_name": "Python 3 (ipykernel)",
   "language": "python",
   "name": "python3"
  },
  "language_info": {
   "codemirror_mode": {
    "name": "ipython",
    "version": 3
   },
   "file_extension": ".py",
   "mimetype": "text/x-python",
   "name": "python",
   "nbconvert_exporter": "python",
   "pygments_lexer": "ipython3",
   "version": "3.10.9"
  },
  "toc": {
   "base_numbering": 1,
   "nav_menu": {},
   "number_sections": true,
   "sideBar": true,
   "skip_h1_title": false,
   "title_cell": "Table of Contents",
   "title_sidebar": "Contents",
   "toc_cell": false,
   "toc_position": {},
   "toc_section_display": true,
   "toc_window_display": false
  }
 },
 "nbformat": 4,
 "nbformat_minor": 5
}
